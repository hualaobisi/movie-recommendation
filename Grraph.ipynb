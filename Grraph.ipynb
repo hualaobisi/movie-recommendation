{
 "cells": [
  {
   "cell_type": "code",
   "execution_count": null,
   "metadata": {
    "collapsed": true
   },
   "outputs": [],
   "source": [
    "\n",
    "import matplotlib.pyplot as plt\n",
    "import fileinput\n",
    "\n",
    "plt.rcParams['font.sans-serif'] = ['SimHei']\n",
    "\n",
    "x = [5, 10, 20, 40, 80,160]\n",
    "\n",
    "\n",
    "y1 = []\n",
    "y2 = []\n",
    "y3 = []\n",
    "y4 = []\n",
    "\n",
    "for line in fileinput.input(\"result_ubcf.data\"):\n",
    "    t = line.split(' ')\n",
    "    for i in range(len(t)):\n",
    "        if(i == 1):\n",
    "            y1.append(float(t[1]))\n",
    "        if(i == 2):\n",
    "            y2.append(float(t[2]))\n",
    "        if(i == 3):\n",
    "            y3.append(float(t[3]))\n",
    "        if(i == 4):\n",
    "            y4.append(float(t[4]))\n",
    "\n",
    "\n",
    "\n",
    "plt.title('UserBasedCF precision、recall、coverage、popularity')\n",
    "\n",
    "plt.xlabel('K value')\n",
    "\n",
    "plt.ylabel('(%)')\n",
    "\n",
    "plt.plot(x, y1, '-o',label='precision')\n",
    "plt.plot(x, y2,'-or', label='recall')\n",
    "plt.plot(x, y3, '-og',label='coverage')\n",
    "plt.plot(x, y4,'-oy', label='popularity')\n",
    "plt.legend()\n",
    "plt.savefig('UserBasedCF.png')\n",
    "\n",
    "plt.show()"
   ]
  }
 ],
 "metadata": {
  "kernelspec": {
   "display_name": "Python 3",
   "language": "python",
   "name": "python3"
  },
  "language_info": {
   "codemirror_mode": {
    "name": "ipython",
    "version": 2
   },
   "file_extension": ".py",
   "mimetype": "text/x-python",
   "name": "python",
   "nbconvert_exporter": "python",
   "pygments_lexer": "ipython2",
   "version": "2.7.6"
  },
  "pycharm": {
   "stem_cell": {
    "cell_type": "raw",
    "source": [],
    "metadata": {
     "collapsed": false
    }
   }
  }
 },
 "nbformat": 4,
 "nbformat_minor": 0
}